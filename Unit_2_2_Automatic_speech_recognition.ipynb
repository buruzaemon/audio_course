{
 "cells": [
  {
   "cell_type": "markdown",
   "id": "63239565-35ec-46f5-9128-d6a1cc393eff",
   "metadata": {},
   "source": [
    "# Unit 2. A gentle introduction to audio applications\n",
    "\n",
    "## Automatic speech recognition with a pipeline\n",
    "\n",
    "Please see [https://huggingface.co/learn/audio-course/chapter2/asr_pipeline#automatic-speech-recognition-with-a-pipeline](https://huggingface.co/learn/audio-course/chapter2/asr_pipeline#automatic-speech-recognition-with-a-pipeline)"
   ]
  },
  {
   "cell_type": "code",
   "execution_count": null,
   "id": "f5880380-e266-4d38-a8b4-acd486032695",
   "metadata": {},
   "outputs": [],
   "source": []
  }
 ],
 "metadata": {
  "kernelspec": {
   "display_name": "Python 3 (ipykernel)",
   "language": "python",
   "name": "python3"
  },
  "language_info": {
   "codemirror_mode": {
    "name": "ipython",
    "version": 3
   },
   "file_extension": ".py",
   "mimetype": "text/x-python",
   "name": "python",
   "nbconvert_exporter": "python",
   "pygments_lexer": "ipython3",
   "version": "3.9.19"
  }
 },
 "nbformat": 4,
 "nbformat_minor": 5
}
