{
 "cells": [
  {
   "cell_type": "markdown",
   "id": "253deb70-a202-4d2f-b9d5-d401f1c6b7d7",
   "metadata": {},
   "source": [
    "# Streaming audio data\n",
    "\n",
    "> Streaming mode has three primary advantages over downloading the entire dataset at once:\n",
    ">\n",
    "> * Disk space: examples are loaded to memory one-by-one as we iterate over the dataset. Since the data is not downloaded locally, there are no disk space requirements, so you can use datasets of arbitrary size.\n",
    "> * Download and processing time: audio datasets are large and need a significant amount of time to download and process. With streaming, loading and processing is done on the fly, meaning you can start using the dataset as soon as the first example is ready.\n",
    "> * Easy experimentation: you can experiment on a handful of examples to check that your script works without having to download the entire dataset."
   ]
  },
  {
   "cell_type": "code",
   "execution_count": 2,
   "id": "de1a0363-e3e0-4931-8c11-b9c4904b7f3f",
   "metadata": {},
   "outputs": [
    {
     "data": {
      "application/vnd.jupyter.widget-view+json": {
       "model_id": "872cdac45f8942318f2a67adf1b8bb4b",
       "version_major": 2,
       "version_minor": 0
      },
      "text/plain": [
       "VBox(children=(HTML(value='<center> <img\\nsrc=https://huggingface.co/front/assets/huggingface_logo-noborder.sv…"
      ]
     },
     "metadata": {},
     "output_type": "display_data"
    }
   ],
   "source": [
    "from huggingface_hub import notebook_login\n",
    "\n",
    "notebook_login()"
   ]
  },
  {
   "cell_type": "code",
   "execution_count": 5,
   "id": "485a086f-04d5-4e5d-96b1-5bb298ba1540",
   "metadata": {},
   "outputs": [
    {
     "name": "stderr",
     "output_type": "stream",
     "text": [
      "/opt/conda/envs/foo/lib/python3.9/site-packages/datasets/load.py:2547: FutureWarning: 'use_auth_token' was deprecated in favor of 'token' in version 2.14.0 and will be removed in 3.0.0.\n",
      "You can remove this warning by passing 'token=<use_auth_token>' instead.\n",
      "  warnings.warn(\n",
      "/opt/conda/envs/foo/lib/python3.9/site-packages/datasets/load.py:1486: FutureWarning: The repository for speechcolab/gigaspeech contains custom code which must be executed to correctly load the dataset. You can inspect the repository content at https://hf.co/datasets/speechcolab/gigaspeech\n",
      "You can avoid this message in future by passing the argument `trust_remote_code=True`.\n",
      "Passing `trust_remote_code=True` will be mandatory to load this dataset from the next major release of `datasets`.\n",
      "  warnings.warn(\n"
     ]
    }
   ],
   "source": [
    "from datasets import load_dataset\n",
    "\n",
    "gigaspeech = load_dataset(\"speechcolab/gigaspeech\", \"xs\", use_auth_token=True, streaming=True)"
   ]
  },
  {
   "cell_type": "code",
   "execution_count": 6,
   "id": "a5adca27-5055-461c-9d62-ea2b3982c615",
   "metadata": {},
   "outputs": [
    {
     "data": {
      "text/plain": [
       "{'segment_id': 'YOU0000000315_S0000660',\n",
       " 'speaker': 'N/A',\n",
       " 'text': \"AS THEY'RE LEAVING <COMMA> CAN KASH PULL ZAHRA ASIDE REALLY QUICKLY <QUESTIONMARK>\",\n",
       " 'audio': {'path': 'xs_chunks_0000/YOU0000000315_S0000660.wav',\n",
       "  'array': array([0.0005188 , 0.00085449, 0.00012207, ..., 0.00125122, 0.00076294,\n",
       "         0.00036621]),\n",
       "  'sampling_rate': 16000},\n",
       " 'begin_time': 2941.89,\n",
       " 'end_time': 2945.07,\n",
       " 'audio_id': 'YOU0000000315',\n",
       " 'title': 'Return to Vasselheim | Critical Role: VOX MACHINA | Episode 43',\n",
       " 'url': 'https://www.youtube.com/watch?v=zr2n1fLVasU',\n",
       " 'source': 2,\n",
       " 'category': 24,\n",
       " 'original_full_path': 'audio/youtube/P0004/YOU0000000315.opus'}"
      ]
     },
     "execution_count": 6,
     "metadata": {},
     "output_type": "execute_result"
    }
   ],
   "source": [
    "next(iter(gigaspeech[\"train\"]))"
   ]
  },
  {
   "cell_type": "code",
   "execution_count": 7,
   "id": "85132b24-84f2-4def-9890-78a868b13693",
   "metadata": {},
   "outputs": [
    {
     "data": {
      "text/plain": [
       "[{'segment_id': 'YOU0000000315_S0000660',\n",
       "  'speaker': 'N/A',\n",
       "  'text': \"AS THEY'RE LEAVING <COMMA> CAN KASH PULL ZAHRA ASIDE REALLY QUICKLY <QUESTIONMARK>\",\n",
       "  'audio': {'path': 'xs_chunks_0000/YOU0000000315_S0000660.wav',\n",
       "   'array': array([0.0005188 , 0.00085449, 0.00012207, ..., 0.00125122, 0.00076294,\n",
       "          0.00036621]),\n",
       "   'sampling_rate': 16000},\n",
       "  'begin_time': 2941.89,\n",
       "  'end_time': 2945.07,\n",
       "  'audio_id': 'YOU0000000315',\n",
       "  'title': 'Return to Vasselheim | Critical Role: VOX MACHINA | Episode 43',\n",
       "  'url': 'https://www.youtube.com/watch?v=zr2n1fLVasU',\n",
       "  'source': 2,\n",
       "  'category': 24,\n",
       "  'original_full_path': 'audio/youtube/P0004/YOU0000000315.opus'},\n",
       " {'segment_id': 'AUD0000001043_S0000775',\n",
       "  'speaker': 'N/A',\n",
       "  'text': 'SIX TOMATOES <PERIOD>',\n",
       "  'audio': {'path': 'xs_chunks_0000/AUD0000001043_S0000775.wav',\n",
       "   'array': array([ 1.43432617e-03,  1.37329102e-03,  1.31225586e-03, ...,\n",
       "          -6.10351562e-05, -1.22070312e-04, -1.83105469e-04]),\n",
       "   'sampling_rate': 16000},\n",
       "  'begin_time': 3673.96,\n",
       "  'end_time': 3675.26,\n",
       "  'audio_id': 'AUD0000001043',\n",
       "  'title': 'Asteroid of Fear',\n",
       "  'url': 'http//www.archive.org/download/asteroid_of_fear_1012_librivox/asteroid_of_fear_1012_librivox_64kb_mp3.zip',\n",
       "  'source': 0,\n",
       "  'category': 28,\n",
       "  'original_full_path': 'audio/audiobook/P0011/AUD0000001043.opus'}]"
      ]
     },
     "execution_count": 7,
     "metadata": {},
     "output_type": "execute_result"
    }
   ],
   "source": [
    "gigaspeech_head = gigaspeech[\"train\"].take(2)\n",
    "list(gigaspeech_head)"
   ]
  },
  {
   "cell_type": "code",
   "execution_count": null,
   "id": "b589093f-002f-44a9-81a9-b34b1482e35b",
   "metadata": {},
   "outputs": [],
   "source": []
  }
 ],
 "metadata": {
  "kernelspec": {
   "display_name": "Python 3 (ipykernel)",
   "language": "python",
   "name": "python3"
  },
  "language_info": {
   "codemirror_mode": {
    "name": "ipython",
    "version": 3
   },
   "file_extension": ".py",
   "mimetype": "text/x-python",
   "name": "python",
   "nbconvert_exporter": "python",
   "pygments_lexer": "ipython3",
   "version": "3.9.19"
  }
 },
 "nbformat": 4,
 "nbformat_minor": 5
}
